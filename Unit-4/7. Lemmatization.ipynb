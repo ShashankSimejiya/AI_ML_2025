{
 "cells": [
  {
   "cell_type": "code",
   "execution_count": 1,
   "id": "08550088",
   "metadata": {},
   "outputs": [
    {
     "name": "stderr",
     "output_type": "stream",
     "text": [
      "2025-10-07 11:08:11 INFO: Checking for updates to resources.json in case models have been updated.  Note: this behavior can be turned off with download_method=None or download_method=DownloadMethod.REUSE_RESOURCES\n"
     ]
    },
    {
     "data": {
      "application/vnd.jupyter.widget-view+json": {
       "model_id": "1f4bd04bd9ef40139f31618766986c48",
       "version_major": 2,
       "version_minor": 0
      },
      "text/plain": [
       "Downloading https://raw.githubusercontent.com/stanfordnlp/stanza-resources/main/resources_1.10.0.json:   0%|  …"
      ]
     },
     "metadata": {},
     "output_type": "display_data"
    },
    {
     "name": "stderr",
     "output_type": "stream",
     "text": [
      "2025-10-07 11:08:11 INFO: Downloaded file to C:\\Users\\ASUS\\stanza_resources\\resources.json\n",
      "2025-10-07 11:08:12 INFO: Loading these models for language: en (English):\n",
      "=================================\n",
      "| Processor | Package           |\n",
      "---------------------------------\n",
      "| tokenize  | combined          |\n",
      "| mwt       | combined          |\n",
      "| pos       | combined_charlm   |\n",
      "| lemma     | combined_nocharlm |\n",
      "=================================\n",
      "\n",
      "2025-10-07 11:08:12 INFO: Using device: cpu\n",
      "2025-10-07 11:08:12 INFO: Loading: tokenize\n",
      "2025-10-07 11:08:13 INFO: Loading: mwt\n",
      "2025-10-07 11:08:13 INFO: Loading: pos\n",
      "2025-10-07 11:08:14 INFO: Loading: lemma\n",
      "2025-10-07 11:08:15 INFO: Done loading processors!\n"
     ]
    },
    {
     "name": "stdout",
     "output_type": "stream",
     "text": [
      "The => the\n",
      "Children => child\n",
      "are => be\n",
      "learning => learn\n",
      "their => their\n",
      "toys => toy\n",
      "and => and\n",
      "games => game\n",
      "are => be\n",
      "ongoing => ongoing\n",
      ". => .\n"
     ]
    }
   ],
   "source": [
    "# 7. lemmatization\n",
    "# pip install stanza\n",
    "\n",
    "import stanza\n",
    "nlp = stanza.Pipeline(lang='en',processors='tokenize,mwt,pos,lemma')\n",
    "\n",
    "text = \"The Children are learning their toys and games are ongoing.\"\n",
    "doc = nlp(text)\n",
    "\n",
    "for sentence in doc.sentences:\n",
    "    for word in sentence.words:\n",
    "        print(word.text,'=>',word.lemma)"
   ]
  }
 ],
 "metadata": {
  "kernelspec": {
   "display_name": "Python 3",
   "language": "python",
   "name": "python3"
  },
  "language_info": {
   "codemirror_mode": {
    "name": "ipython",
    "version": 3
   },
   "file_extension": ".py",
   "mimetype": "text/x-python",
   "name": "python",
   "nbconvert_exporter": "python",
   "pygments_lexer": "ipython3",
   "version": "3.13.7"
  }
 },
 "nbformat": 4,
 "nbformat_minor": 5
}
