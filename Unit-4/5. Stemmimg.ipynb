{
 "cells": [
  {
   "cell_type": "code",
   "execution_count": null,
   "id": "08550088",
   "metadata": {},
   "outputs": [
    {
     "name": "stdout",
     "output_type": "stream",
     "text": [
      "PorterStemmer\n",
      "student => student\n",
      "playing => play\n",
      "played => play\n",
      "studies => studi\n",
      "studing => stude\n",
      "\n",
      "SnowballStemmer\n",
      "student => student\n",
      "playing => play\n",
      "played => play\n",
      "studies => studi\n",
      "studing => stude\n",
      "\n",
      "LancasterStemmer\n",
      "student => stud\n",
      "playing => play\n",
      "played => play\n",
      "studies => study\n",
      "studing => stud\n"
     ]
    }
   ],
   "source": [
    "# 5. Stemming\n",
    "\n",
    "from nltk.stem import PorterStemmer, SnowballStemmer, LancasterStemmer\n",
    "\n",
    "porter = PorterStemmer()\n",
    "snowball = SnowballStemmer(\"english\")\n",
    "lancaster = LancasterStemmer()\n",
    "\n",
    "words = [\"student\",\"playing\",\"played\",\"studies\",\"studing\"]\n",
    "\n",
    "print(\"PorterStemmer\")\n",
    "\n",
    "for w in words:\n",
    "    print(w,'=>',porter.stem(w))\n",
    "\n",
    "print()\n",
    "print(\"SnowballStemmer\")\n",
    "\n",
    "for w in words:\n",
    "    print(w,'=>',snowball.stem(w))\n",
    "\n",
    "print()\n",
    "print(\"LancasterStemmer\")\n",
    "\n",
    "for w in words:\n",
    "    print(w,\"=>\",lancaster.stem(w))"
   ]
  }
 ],
 "metadata": {
  "kernelspec": {
   "display_name": "Python 3",
   "language": "python",
   "name": "python3"
  },
  "language_info": {
   "codemirror_mode": {
    "name": "ipython",
    "version": 3
   },
   "file_extension": ".py",
   "mimetype": "text/x-python",
   "name": "python",
   "nbconvert_exporter": "python",
   "pygments_lexer": "ipython3",
   "version": "3.13.7"
  }
 },
 "nbformat": 4,
 "nbformat_minor": 5
}
