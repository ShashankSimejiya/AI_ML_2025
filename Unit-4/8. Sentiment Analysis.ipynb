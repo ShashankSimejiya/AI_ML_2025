{
 "cells": [
  {
   "cell_type": "code",
   "execution_count": 2,
   "id": "08550088",
   "metadata": {},
   "outputs": [
    {
     "name": "stdout",
     "output_type": "stream",
     "text": [
      "My name is Shashank,I am from Junagadh. => {'neg': 0.0, 'neu': 1.0, 'pos': 0.0, 'compound': 0.0}\n",
      "This is the worst product,i have ever seen. => {'neg': 0.369, 'neu': 0.631, 'pos': 0.0, 'compound': -0.6249}\n",
      "This  Product is okey, not great but not bad either. => {'neg': 0.154, 'neu': 0.575, 'pos': 0.271, 'compound': 0.3875}\n"
     ]
    }
   ],
   "source": [
    "# 8. Sentiment Analysis\n",
    "\n",
    "import nltk\n",
    "from nltk.sentiment.vader import SentimentIntensityAnalyzer\n",
    "\n",
    "analyzer = SentimentIntensityAnalyzer()\n",
    "\n",
    "Sentences = [\n",
    "    \"My name is Shashank,I am from Junagadh.\",\n",
    "    \"This is the worst product,i have ever seen.\",\n",
    "    \"This  Product is okey, not great but not bad either.\"\n",
    "    ]\n",
    "\n",
    "for text in Sentences:\n",
    "    scores = analyzer.polarity_scores(text)\n",
    "    print(text,'=>',scores)"
   ]
  }
 ],
 "metadata": {
  "kernelspec": {
   "display_name": "Python 3",
   "language": "python",
   "name": "python3"
  },
  "language_info": {
   "codemirror_mode": {
    "name": "ipython",
    "version": 3
   },
   "file_extension": ".py",
   "mimetype": "text/x-python",
   "name": "python",
   "nbconvert_exporter": "python",
   "pygments_lexer": "ipython3",
   "version": "3.13.7"
  }
 },
 "nbformat": 4,
 "nbformat_minor": 5
}
