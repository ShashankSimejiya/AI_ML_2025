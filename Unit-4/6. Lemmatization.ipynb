{
 "cells": [
  {
   "cell_type": "code",
   "execution_count": 2,
   "id": "08550088",
   "metadata": {},
   "outputs": [
    {
     "data": {
      "application/vnd.jupyter.widget-view+json": {
       "model_id": "39414fe1eb444397809c1e7024206737",
       "version_major": 2,
       "version_minor": 0
      },
      "text/plain": [
       "Downloading https://raw.githubusercontent.com/stanfordnlp/stanza-resources/main/resources_1.10.0.json:   0%|  …"
      ]
     },
     "metadata": {},
     "output_type": "display_data"
    },
    {
     "name": "stderr",
     "output_type": "stream",
     "text": [
      "2025-10-05 10:02:33 INFO: Downloaded file to C:\\Users\\ASUS\\stanza_resources\\resources.json\n",
      "2025-10-05 10:02:33 INFO: Downloading default packages for language: en (English) ...\n",
      "2025-10-05 10:02:34 INFO: File exists: C:\\Users\\ASUS\\stanza_resources\\en\\default.zip\n",
      "2025-10-05 10:02:36 INFO: Finished downloading models and saved to C:\\Users\\ASUS\\stanza_resources\n"
     ]
    }
   ],
   "source": [
    "# 6. lemmatization\n",
    "# pip install stanza\n",
    "\n",
    "import stanza\n",
    "stanza.download('en')"
   ]
  }
 ],
 "metadata": {
  "kernelspec": {
   "display_name": "Python 3",
   "language": "python",
   "name": "python3"
  },
  "language_info": {
   "codemirror_mode": {
    "name": "ipython",
    "version": 3
   },
   "file_extension": ".py",
   "mimetype": "text/x-python",
   "name": "python",
   "nbconvert_exporter": "python",
   "pygments_lexer": "ipython3",
   "version": "3.13.7"
  }
 },
 "nbformat": 4,
 "nbformat_minor": 5
}
