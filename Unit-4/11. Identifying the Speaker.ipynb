{
 "cells": [
  {
   "cell_type": "code",
   "execution_count": null,
   "id": "08550088",
   "metadata": {},
   "outputs": [
    {
     "name": "stdout",
     "output_type": "stream",
     "text": [
      "Please Speck \n"
     ]
    }
   ],
   "source": [
    "# 12. Identifying the Specker\n",
    "\n",
    "import numpy as np\n",
    "import sounddevice as sd\n",
    "import soundfile as sf\n",
    "import librosa\n",
    "from sklearn.neighbors import KNeighborsClassifier\n",
    "\n",
    "def extract_features(file_path):\n",
    "    y,sr = librosa.load(file_path, duration=3)\n",
    "    mfcc = librosa.feature.mfcc(y=y,sr=sr,n_mfcc=13)\n",
    "    return np.mean(mfcc.T,axis=0)\n",
    "\n",
    "train_files = {\n",
    "    'X' : r\"E:\\Atmiya University\\Semester 3\\AI_ML\\Unit-4\\x.wav\",\n",
    "    'Y' : r\"E:\\Atmiya University\\Semester 3\\AI_ML\\Unit-4\\y.wav\"\n",
    "}\n",
    "\n",
    "x,y = [],[]\n",
    "\n",
    "for speaker,file in train_files.items():\n",
    "    features = extract_features(file)\n",
    "    x.append(features)\n",
    "    y.append(speaker)\n",
    "\n",
    "model = KNeighborsClassifier(n_neighbors=1)\n",
    "model.fit(x,y)\n",
    "\n",
    "duration = 3\n",
    "print(\"Please Speck \")\n",
    "\n",
    "recording = sd.rec(int(duration * 44100), samplerate=44100, channels=1)\n",
    "sd.wait()\n",
    "\n",
    "test_file = 'test_live.wav'\n",
    "sf.write(test_file,recording,44100)\n",
    "\n",
    "test_feature = extract_features(test_file)\n",
    "predictd_feature = model.predict([test_feature])"
   ]
  }
 ],
 "metadata": {
  "kernelspec": {
   "display_name": "Python 3",
   "language": "python",
   "name": "python3"
  },
  "language_info": {
   "codemirror_mode": {
    "name": "ipython",
    "version": 3
   },
   "file_extension": ".py",
   "mimetype": "text/x-python",
   "name": "python",
   "nbconvert_exporter": "python",
   "pygments_lexer": "ipython3",
   "version": "3.13.7"
  }
 },
 "nbformat": 4,
 "nbformat_minor": 5
}
