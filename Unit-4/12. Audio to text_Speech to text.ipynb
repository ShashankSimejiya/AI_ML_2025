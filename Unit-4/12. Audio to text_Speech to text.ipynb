{
 "cells": [
  {
   "cell_type": "code",
   "execution_count": 14,
   "id": "08550088",
   "metadata": {},
   "outputs": [
    {
     "name": "stdout",
     "output_type": "stream",
     "text": [
      "Please Speck \n",
      "You Said :  hello sir kaise ho bro\n"
     ]
    }
   ],
   "source": [
    "# 12.Audio to text/ Speech to text\n",
    "# pip install speechRecognition\n",
    "\n",
    "import speech_recognition as sr\n",
    "\n",
    "speech_recog = sr.Recognizer()\n",
    "\n",
    "with sr.Microphone() as source:\n",
    "    print(\"Please Speck \")\n",
    "    audio = speech_recog.listen(source)\n",
    "\n",
    "    text = speech_recog.recognize_google(audio)\n",
    "    print('You Said : ', text)"
   ]
  }
 ],
 "metadata": {
  "kernelspec": {
   "display_name": "Python 3",
   "language": "python",
   "name": "python3"
  },
  "language_info": {
   "codemirror_mode": {
    "name": "ipython",
    "version": 3
   },
   "file_extension": ".py",
   "mimetype": "text/x-python",
   "name": "python",
   "nbconvert_exporter": "python",
   "pygments_lexer": "ipython3",
   "version": "3.13.7"
  }
 },
 "nbformat": 4,
 "nbformat_minor": 5
}
