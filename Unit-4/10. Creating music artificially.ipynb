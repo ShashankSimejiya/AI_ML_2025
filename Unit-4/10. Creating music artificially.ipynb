{
 "cells": [
  {
   "cell_type": "code",
   "execution_count": 1,
   "id": "08550088",
   "metadata": {},
   "outputs": [],
   "source": [
    "# 10. Creating music artificially\n",
    "# Synthesizing the music\n",
    "# pip install sounddevice\n",
    "\n",
    "import numpy as np\n",
    "import sounddevice as sd\n",
    "\n",
    "sr = 44100\n",
    "duration = 2.0\n",
    "freqs = 630\n",
    "\n",
    "t = np.linspace(0,duration,int(sr*duration),endpoint=False)\n",
    "y = 0.5 * np.sin(2*np.pi*freqs*t)\n",
    "sd.play(y,sr)\n",
    "sd.wait()"
   ]
  }
 ],
 "metadata": {
  "kernelspec": {
   "display_name": "Python 3",
   "language": "python",
   "name": "python3"
  },
  "language_info": {
   "codemirror_mode": {
    "name": "ipython",
    "version": 3
   },
   "file_extension": ".py",
   "mimetype": "text/x-python",
   "name": "python",
   "nbconvert_exporter": "python",
   "pygments_lexer": "ipython3",
   "version": "3.13.7"
  }
 },
 "nbformat": 4,
 "nbformat_minor": 5
}
