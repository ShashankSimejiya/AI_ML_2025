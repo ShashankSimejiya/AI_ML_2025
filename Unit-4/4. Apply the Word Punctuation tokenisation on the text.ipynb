{
 "cells": [
  {
   "cell_type": "code",
   "execution_count": null,
   "id": "08550088",
   "metadata": {},
   "outputs": [
    {
     "name": "stdout",
     "output_type": "stream",
     "text": [
      "Sentence Tokenizer :  ['I', 'love', 'NLP', '.', 'It', \"'\", 's', 'fun', ',', 'isn', \"'\", 't', 'it', '?']\n"
     ]
    }
   ],
   "source": [
    "# 4. Apply the Word Punctuation tokenisation on the text\n",
    "\n",
    "from nltk.tokenize import wordpunct_tokenize\n",
    "\n",
    "text = \"I love NLP. It's fun, isn't it?\"\n",
    "\n",
    "tokenized_punct = wordpunct_tokenize(text)\n",
    "\n",
    "print('Sentence Tokenizer : ',tokenized_punct)\n"
   ]
  }
 ],
 "metadata": {
  "kernelspec": {
   "display_name": "Python 3",
   "language": "python",
   "name": "python3"
  },
  "language_info": {
   "codemirror_mode": {
    "name": "ipython",
    "version": 3
   },
   "file_extension": ".py",
   "mimetype": "text/x-python",
   "name": "python",
   "nbconvert_exporter": "python",
   "pygments_lexer": "ipython3",
   "version": "3.13.7"
  }
 },
 "nbformat": 4,
 "nbformat_minor": 5
}
