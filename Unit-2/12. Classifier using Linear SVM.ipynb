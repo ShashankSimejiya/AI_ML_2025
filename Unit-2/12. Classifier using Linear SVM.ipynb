{
 "cells": [
  {
   "cell_type": "code",
   "execution_count": 7,
   "id": "d3116a57-d063-4c9c-9793-19c55a3573cc",
   "metadata": {},
   "outputs": [
    {
     "name": "stdout",
     "output_type": "stream",
     "text": [
      "              precision    recall  f1-score   support\n",
      "\n",
      "           0       0.71      0.80      0.75        30\n",
      "           1       0.77      0.67      0.71        30\n",
      "\n",
      "    accuracy                           0.73        60\n",
      "   macro avg       0.74      0.73      0.73        60\n",
      "weighted avg       0.74      0.73      0.73        60\n",
      "\n"
     ]
    }
   ],
   "source": [
    "#12. Classifier using Linear SVM\n",
    "\n",
    "from sklearn.datasets import make_classification\n",
    "from sklearn.model_selection import train_test_split\n",
    "from sklearn.svm import SVC\n",
    "from sklearn.metrics import classification_report\n",
    "\n",
    "x,y = make_classification(n_samples=200, n_informative=2, n_redundant=0,n_clusters_per_class=1,random_state=42)\n",
    "\n",
    "x_train,x_test,y_train,y_test = train_test_split(x,y,test_size=0.3,random_state=1,stratify=y)\n",
    "\n",
    "linear_svm = SVC(kernel='linear')\n",
    "linear_svm.fit(x_train,y_train)\n",
    "y_pred_linear = linear_svm.predict(x_test)\n",
    "print(classification_report(y_test,y_pred_linear))"
   ]
  }
 ],
 "metadata": {
  "kernelspec": {
   "display_name": "Python 3",
   "language": "python",
   "name": "python3"
  },
  "language_info": {
   "codemirror_mode": {
    "name": "ipython",
    "version": 3
   },
   "file_extension": ".py",
   "mimetype": "text/x-python",
   "name": "python",
   "nbconvert_exporter": "python",
   "pygments_lexer": "ipython3",
   "version": "3.13.7"
  }
 },
 "nbformat": 4,
 "nbformat_minor": 5
}
