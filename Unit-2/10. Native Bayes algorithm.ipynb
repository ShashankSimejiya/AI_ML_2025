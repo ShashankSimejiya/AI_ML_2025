{
 "cells": [
  {
   "cell_type": "code",
   "execution_count": 2,
   "id": "d3116a57-d063-4c9c-9793-19c55a3573cc",
   "metadata": {},
   "outputs": [
    {
     "name": "stdout",
     "output_type": "stream",
     "text": [
      "Email: 'Free offer just for you'=>spam\n",
      "Email: 'Hi, are we still on for todays lottery?'=>spam\n"
     ]
    }
   ],
   "source": [
    "#10. Native Bayes Algorithm\n",
    "\n",
    "import pandas as pd\n",
    "from sklearn.model_selection import train_test_split\n",
    "from sklearn.feature_extraction.text import CountVectorizer\n",
    "from sklearn.naive_bayes import MultinomialNB\n",
    "\n",
    "data = {    \n",
    "    'Message' :[\n",
    "        \"Win Money Now\",\n",
    "        \"Lowest Price Offer\",\n",
    "        \"Hello Friend how are you\",\n",
    "        \"Lets Meet Tomorrow\",\n",
    "        \"Congratulations, you won a lottery\",\n",
    "        \"Reminder for the meeting at 5 PM\"\n",
    "    ],\n",
    "    'Label' : ['Spam','Spam','Not Spam','Not Spam','Spam','Not Spam',]\n",
    "}\n",
    "\n",
    "df = pd.DataFrame(data)\n",
    "\n",
    "df['Label'] = df['Label'].map({'Not Spam' : 0,'Spam' : 1})\n",
    "x = df['Message']\n",
    "y = df['Label']\n",
    "\n",
    "vectorizer = CountVectorizer()\n",
    "x_features = vectorizer.fit_transform(x)\n",
    "\n",
    "x_train,x_test,y_train,y_test = train_test_split(x_features,y,test_size=0.3,random_state=1)\n",
    "\n",
    "model = MultinomialNB()\n",
    "model.fit(x_train,y_train)\n",
    "\n",
    "y_pred = model.predict(x_test)\n",
    "\n",
    "new_emails = [\"Free offer just for you\",\"Hi, are we still on for todays lottery?\"]\n",
    "new_features = vectorizer.transform(new_emails)\n",
    "predictions = model.predict(new_features)\n",
    "for email,p in zip(new_emails,predictions):\n",
    "    print(f\"Email: '{email}'=>{'spam' if p==1 else 'Not Spam'}\")"
   ]
  }
 ],
 "metadata": {
  "kernelspec": {
   "display_name": "Python 3",
   "language": "python",
   "name": "python3"
  },
  "language_info": {
   "codemirror_mode": {
    "name": "ipython",
    "version": 3
   },
   "file_extension": ".py",
   "mimetype": "text/x-python",
   "name": "python",
   "nbconvert_exporter": "python",
   "pygments_lexer": "ipython3",
   "version": "3.13.7"
  }
 },
 "nbformat": 4,
 "nbformat_minor": 5
}
