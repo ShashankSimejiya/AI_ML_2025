{
 "cells": [
  {
   "cell_type": "code",
   "execution_count": 1,
   "id": "d3116a57-d063-4c9c-9793-19c55a3573cc",
   "metadata": {},
   "outputs": [
    {
     "name": "stdout",
     "output_type": "stream",
     "text": [
      "Labels ::  ['apple', 'banana', 'grapes', 'mango', 'mango', 'banana']\n",
      "[0 1 2 3 3 1]\n",
      "[3 0]\n",
      "['banana' 'mango']\n"
     ]
    }
   ],
   "source": [
    "#5. Label Encoding\n",
    "\n",
    "import numpy as np\n",
    "from sklearn import preprocessing\n",
    "\n",
    "labels = ['apple','banana','grapes','mango','mango','banana']\n",
    "print(\"Labels :: \",labels)\n",
    "\n",
    "label_encoder = preprocessing.LabelEncoder()\n",
    "op = label_encoder.fit_transform(labels)\n",
    "print(op)\n",
    "test_labels = ['mango','apple']\n",
    "print(label_encoder.transform(test_labels))\n",
    "test_codes = [1,3]\n",
    "print(label_encoder.inverse_transform(test_codes))"
   ]
  }
 ],
 "metadata": {
  "kernelspec": {
   "display_name": "Python 3",
   "language": "python",
   "name": "python3"
  },
  "language_info": {
   "codemirror_mode": {
    "name": "ipython",
    "version": 3
   },
   "file_extension": ".py",
   "mimetype": "text/x-python",
   "name": "python",
   "nbconvert_exporter": "python",
   "pygments_lexer": "ipython3",
   "version": "3.13.7"
  }
 },
 "nbformat": 4,
 "nbformat_minor": 5
}
