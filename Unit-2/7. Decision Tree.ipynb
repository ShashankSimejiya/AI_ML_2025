{
 "cells": [
  {
   "cell_type": "code",
   "execution_count": 1,
   "id": "d3116a57-d063-4c9c-9793-19c55a3573cc",
   "metadata": {},
   "outputs": [
    {
     "name": "stdout",
     "output_type": "stream",
     "text": [
      "[47500.]\n"
     ]
    }
   ],
   "source": [
    "#7. Decision Tree\n",
    "\n",
    "import numpy as np\n",
    "from sklearn.tree import DecisionTreeRegressor\n",
    "\n",
    "exper = np.array([[1],[2],[3],[4],[5]])\n",
    "salary = np.array([[30000],[35000],[40000],[45000],[50000]])\n",
    "\n",
    "model = DecisionTreeRegressor(max_depth=2)\n",
    "model.fit(exper,salary)\n",
    "\n",
    "print(model.predict([[6]]))"
   ]
  }
 ],
 "metadata": {
  "kernelspec": {
   "display_name": "Python 3",
   "language": "python",
   "name": "python3"
  },
  "language_info": {
   "codemirror_mode": {
    "name": "ipython",
    "version": 3
   },
   "file_extension": ".py",
   "mimetype": "text/x-python",
   "name": "python",
   "nbconvert_exporter": "python",
   "pygments_lexer": "ipython3",
   "version": "3.13.7"
  }
 },
 "nbformat": 4,
 "nbformat_minor": 5
}
