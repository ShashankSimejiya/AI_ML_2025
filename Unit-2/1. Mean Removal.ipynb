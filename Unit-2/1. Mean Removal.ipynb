{
 "cells": [
  {
   "cell_type": "code",
   "execution_count": 8,
   "id": "d3116a57-d063-4c9c-9793-19c55a3573cc",
   "metadata": {},
   "outputs": [
    {
     "name": "stdout",
     "output_type": "stream",
     "text": [
      "[[-4.]\n",
      " [-2.]\n",
      " [ 0.]\n",
      " [ 2.]\n",
      " [ 4.]]\n",
      "[2.82842712]\n",
      "[0.]\n"
     ]
    }
   ],
   "source": [
    "#1. Mean Removal\n",
    "\n",
    "import numpy as np\n",
    "from sklearn import preprocessing\n",
    "\n",
    "data = np.array([[2],[4],[6],[8],[10]])\n",
    "\n",
    "mean = data.mean(axis=0)\n",
    "\n",
    "mean_remove = data - mean\n",
    "print(mean_remove)\n",
    "print(mean_remove.std(axis=0))\n",
    "print(mean_remove.mean(axis=0))\n"
   ]
  }
 ],
 "metadata": {
  "kernelspec": {
   "display_name": "Python 3",
   "language": "python",
   "name": "python3"
  },
  "language_info": {
   "codemirror_mode": {
    "name": "ipython",
    "version": 3
   },
   "file_extension": ".py",
   "mimetype": "text/x-python",
   "name": "python",
   "nbconvert_exporter": "python",
   "pygments_lexer": "ipython3",
   "version": "3.13.7"
  }
 },
 "nbformat": 4,
 "nbformat_minor": 5
}
