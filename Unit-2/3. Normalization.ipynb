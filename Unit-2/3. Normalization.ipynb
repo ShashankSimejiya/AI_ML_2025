{
 "cells": [
  {
   "cell_type": "code",
   "execution_count": 2,
   "id": "d3116a57-d063-4c9c-9793-19c55a3573cc",
   "metadata": {},
   "outputs": [
    {
     "name": "stdout",
     "output_type": "stream",
     "text": [
      "[[ 3  4]\n",
      " [ 1  2]\n",
      " [ 5 12]]\n",
      "**********************************************************************\n",
      "[[0.42857143 0.57142857]\n",
      " [0.33333333 0.66666667]\n",
      " [0.29411765 0.70588235]]\n",
      "**********************************************************************\n",
      "[[0.6        0.8       ]\n",
      " [0.4472136  0.89442719]\n",
      " [0.38461538 0.92307692]]\n"
     ]
    }
   ],
   "source": [
    "#3. Normalization\n",
    "\n",
    "import numpy as np\n",
    "from sklearn import preprocessing\n",
    "\n",
    "data = np.array([[3,4],[1,2],[5,12]])\n",
    "print(data)\n",
    "print(\"*\"*70)\n",
    "\n",
    "# L1 Normalization\n",
    "normalization_l1 = preprocessing.normalize(data,norm=\"l1\")\n",
    "print(normalization_l1)\n",
    "print(\"*\"*70)\n",
    "\n",
    "# L2 Normalization\n",
    "normalization_l2 = preprocessing.normalize(data,norm=\"l2\")\n",
    "print(normalization_l2)"
   ]
  }
 ],
 "metadata": {
  "kernelspec": {
   "display_name": "Python 3",
   "language": "python",
   "name": "python3"
  },
  "language_info": {
   "codemirror_mode": {
    "name": "ipython",
    "version": 3
   },
   "file_extension": ".py",
   "mimetype": "text/x-python",
   "name": "python",
   "nbconvert_exporter": "python",
   "pygments_lexer": "ipython3",
   "version": "3.13.7"
  }
 },
 "nbformat": 4,
 "nbformat_minor": 5
}
