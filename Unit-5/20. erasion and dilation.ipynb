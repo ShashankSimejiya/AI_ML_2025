{
 "cells": [
  {
   "cell_type": "code",
   "execution_count": null,
   "id": "ba08b295",
   "metadata": {},
   "outputs": [],
   "source": [
    "# 20. Erasion and Dilation\n",
    "\n",
    "import cv2\n",
    "import matplotlib.pyplot as plt\n",
    "import numpy as np\n",
    "\n",
    "img = cv2.imread('0 to 9.png')\n",
    "\n",
    "k1 = np.ones((3,3),np.uint8)\n",
    "\n",
    "erasian = cv2.erode(img,k1,iterations=1)\n",
    "\n",
    "dilation = cv2.dilate(img,k1,iterations=1)\n",
    "\n",
    "cv2.imshow('Source',img)\n",
    "cv2.imshow('Erasion',erasian)\n",
    "cv2.imshow('Dialation',dilation)\n",
    "\n",
    "cv2.waitKey(0)\n",
    "cv2.destroyAllWindows()"
   ]
  }
 ],
 "metadata": {
  "kernelspec": {
   "display_name": "Python 3",
   "language": "python",
   "name": "python3"
  },
  "language_info": {
   "codemirror_mode": {
    "name": "ipython",
    "version": 3
   },
   "file_extension": ".py",
   "mimetype": "text/x-python",
   "name": "python",
   "nbconvert_exporter": "python",
   "pygments_lexer": "ipython3",
   "version": "3.13.7"
  }
 },
 "nbformat": 4,
 "nbformat_minor": 5
}
