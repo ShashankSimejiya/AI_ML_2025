{
 "cells": [
  {
   "cell_type": "code",
   "execution_count": null,
   "id": "ba08b295",
   "metadata": {},
   "outputs": [],
   "source": [
    "# 24. Object detection from the Camera\n",
    "# Face Detection\n",
    "\n",
    "import cv2\n",
    "\n",
    "face_cascade = cv2.CascadeClassifier(\"haarcascade_frontalface_default.xml\")\n",
    "cap = cv2.VideoCapture(0)\n",
    "\n",
    "while True:\n",
    "    ret,frame = cap.read()\n",
    "\n",
    "    if not ret:\n",
    "        break\n",
    "    \n",
    "    gray_image = (cv2.cvtColor(frame,cv2.COLOR_BGR2GRAY))\n",
    "    face = face_cascade.detectMultiScale(gray_image,scaleFactor=1.1,minNeighbors=4)\n",
    "    \n",
    "    for(x,y,w,h) in face:\n",
    "        cv2.rectangle(frame,(x,y),(x+w,y+h),(0,255,0),1)\n",
    "    \n",
    "    cv2.imshow('WebCam Face Detector',frame)\n",
    "\n",
    "    if cv2.waitKey(1) == 27:\n",
    "        break\n",
    "\n",
    "cv2.destroyAllWindows()"
   ]
  }
 ],
 "metadata": {
  "kernelspec": {
   "display_name": "Python 3",
   "language": "python",
   "name": "python3"
  },
  "language_info": {
   "codemirror_mode": {
    "name": "ipython",
    "version": 3
   },
   "file_extension": ".py",
   "mimetype": "text/x-python",
   "name": "python",
   "nbconvert_exporter": "python",
   "pygments_lexer": "ipython3",
   "version": "3.13.7"
  }
 },
 "nbformat": 4,
 "nbformat_minor": 5
}
