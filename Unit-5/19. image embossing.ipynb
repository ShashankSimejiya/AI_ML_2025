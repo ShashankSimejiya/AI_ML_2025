{
 "cells": [
  {
   "cell_type": "code",
   "execution_count": null,
   "id": "ba08b295",
   "metadata": {},
   "outputs": [
    {
     "ename": "error",
     "evalue": "OpenCV(4.12.0) D:\\a\\opencv-python\\opencv-python\\opencv\\modules\\imgproc\\src\\color.cpp:199: error: (-215:Assertion failed) !_src.empty() in function 'cv::cvtColor'\n",
     "output_type": "error",
     "traceback": [
      "\u001b[31m---------------------------------------------------------------------------\u001b[39m",
      "\u001b[31merror\u001b[39m                                     Traceback (most recent call last)",
      "\u001b[36mCell\u001b[39m\u001b[36m \u001b[39m\u001b[32mIn[11]\u001b[39m\u001b[32m, line 8\u001b[39m\n\u001b[32m      5\u001b[39m \u001b[38;5;28;01mimport\u001b[39;00m\u001b[38;5;250m \u001b[39m\u001b[34;01mnumpy\u001b[39;00m\u001b[38;5;250m \u001b[39m\u001b[38;5;28;01mas\u001b[39;00m\u001b[38;5;250m \u001b[39m\u001b[34;01mnp\u001b[39;00m\n\u001b[32m      7\u001b[39m img = cv2.imread(\u001b[33m'\u001b[39m\u001b[33malphabet.jpg\u001b[39m\u001b[33m'\u001b[39m)\n\u001b[32m----> \u001b[39m\u001b[32m8\u001b[39m im = \u001b[43mcv2\u001b[49m\u001b[43m.\u001b[49m\u001b[43mcvtColor\u001b[49m\u001b[43m(\u001b[49m\u001b[43mimg\u001b[49m\u001b[43m,\u001b[49m\u001b[43mcv2\u001b[49m\u001b[43m.\u001b[49m\u001b[43mIMREAD_GRAYSCALE\u001b[49m\u001b[43m)\u001b[49m\n\u001b[32m     10\u001b[39m k1 = np.array([[\u001b[32m0\u001b[39m,-\u001b[32m1\u001b[39m,-\u001b[32m1\u001b[39m],[\u001b[32m1\u001b[39m,\u001b[32m0\u001b[39m,-\u001b[32m1\u001b[39m],[\u001b[32m1\u001b[39m,\u001b[32m1\u001b[39m,\u001b[32m0\u001b[39m]])\n\u001b[32m     11\u001b[39m k2 = np.array([[-\u001b[32m1\u001b[39m,-\u001b[32m1\u001b[39m,\u001b[32m0\u001b[39m],[-\u001b[32m1\u001b[39m,\u001b[32m0\u001b[39m,\u001b[32m1\u001b[39m],[\u001b[32m0\u001b[39m,\u001b[32m1\u001b[39m,\u001b[32m1\u001b[39m]])\n",
      "\u001b[31merror\u001b[39m: OpenCV(4.12.0) D:\\a\\opencv-python\\opencv-python\\opencv\\modules\\imgproc\\src\\color.cpp:199: error: (-215:Assertion failed) !_src.empty() in function 'cv::cvtColor'\n"
     ]
    }
   ],
   "source": [
    "# 19. Image Embossing\n",
    "\n",
    "import cv2\n",
    "import matplotlib.pyplot as plt\n",
    "import numpy as np\n",
    "\n",
    "img = cv2.imread('alphabet.jpg')\n",
    "img = cv2.cvtColor(img,cv2.IMREAD_GRAYSCALE)\n",
    "\n",
    "k1 = np.array([[0,-1,-1],[1,0,-1],[1,1,0]])\n",
    "k2 = np.array([[-1,-1,0],[-1,0,1],[0,1,1]])\n",
    "k3 = np.array([[1,0,0],[0,0,0],[0,0,-1]])\n",
    "k4 = np.array([[0,0,1],[0,0,0],[-1,0,0]])\n",
    "\n",
    "img1 = cv2.filter2D(img,-1,k1)\n",
    "img2 = cv2.filter2D(img,-1,k2)\n",
    "img3 = cv2.filter2D(img,-1,k3)\n",
    "img4 = cv2.filter2D(img,-1,k4)\n",
    "\n",
    "plt.subplot(2,3,1),plt.imshow(img),plt.title('Source Image'),plt.axis('off')\n",
    "plt.subplot(2,3,2),plt.imshow(img1,cmap='gray'),plt.title('k1'),plt.axis('off')\n",
    "plt.subplot(2,3,3),plt.imshow(img2,cmap='gray'),plt.title('k2'),plt.axis('off')\n",
    "plt.subplot(2,3,4),plt.imshow(img3,cmap='gray'),plt.title('k3'),plt.axis('off')\n",
    "plt.subplot(2,3,5),plt.imshow(img4,cmap='gray'),plt.title('k4'),plt.axis('off')"
   ]
  }
 ],
 "metadata": {
  "kernelspec": {
   "display_name": "Python 3",
   "language": "python",
   "name": "python3"
  },
  "language_info": {
   "codemirror_mode": {
    "name": "ipython",
    "version": 3
   },
   "file_extension": ".py",
   "mimetype": "text/x-python",
   "name": "python",
   "nbconvert_exporter": "python",
   "pygments_lexer": "ipython3",
   "version": "3.13.7"
  }
 },
 "nbformat": 4,
 "nbformat_minor": 5
}
