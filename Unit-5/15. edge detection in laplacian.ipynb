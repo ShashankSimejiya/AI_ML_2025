{
 "cells": [
  {
   "cell_type": "code",
   "execution_count": null,
   "id": "7a7d1375-4385-40f0-a4c9-1524a8215bfd",
   "metadata": {},
   "outputs": [
    {
     "ename": "NameError",
     "evalue": "name 'gauss' is not defined",
     "output_type": "error",
     "traceback": [
      "\u001b[31m---------------------------------------------------------------------------\u001b[39m",
      "\u001b[31mNameError\u001b[39m                                 Traceback (most recent call last)",
      "\u001b[36mCell\u001b[39m\u001b[36m \u001b[39m\u001b[32mIn[1]\u001b[39m\u001b[32m, line 13\u001b[39m\n\u001b[32m     10\u001b[39m \u001b[38;5;66;03m# gauss = cv2.GaussianBlur(img,(3,3),0)\u001b[39;00m\n\u001b[32m     12\u001b[39m laplacian = cv2.Laplacian(img,cv2.CV_64F,ksize=\u001b[32m3\u001b[39m)\n\u001b[32m---> \u001b[39m\u001b[32m13\u001b[39m laplacian_after_blur = cv2.Laplacian(\u001b[43mgauss\u001b[49m,cv2.CV_64F,ksize=\u001b[32m3\u001b[39m)\n\u001b[32m     15\u001b[39m plt.figure(figsize=(\u001b[32m10\u001b[39m,\u001b[32m6\u001b[39m))\n\u001b[32m     16\u001b[39m plt.subplot(\u001b[32m1\u001b[39m,\u001b[32m3\u001b[39m,\u001b[32m1\u001b[39m),plt.imshow(img),plt.title(\u001b[33m'\u001b[39m\u001b[33mSource Image\u001b[39m\u001b[33m'\u001b[39m),plt.axis(\u001b[33m'\u001b[39m\u001b[33moff\u001b[39m\u001b[33m'\u001b[39m)\n",
      "\u001b[31mNameError\u001b[39m: name 'gauss' is not defined"
     ]
    }
   ],
   "source": [
    "# 15. Edge Detection in Laplacian\n",
    "\n",
    "import cv2\n",
    "import matplotlib.pyplot as plt\n",
    "import numpy as np\n",
    "\n",
    "img = cv2.imread('tiger.jpg')\n",
    "img = cv2.cvtColor(img,cv2.COLOR_BGR2GRAY)\n",
    "\n",
    "gauss = cv2.GaussianBlur(img,(3,3),0)\n",
    "\n",
    "laplacian = cv2.Laplacian(img,cv2.CV_64F,ksize=3)\n",
    "laplacian_after_blur = cv2.Laplacian(gauss,cv2.CV_64F,ksize=3)\n",
    "\n",
    "plt.figure(figsize=(10,6))\n",
    "plt.subplot(1,3,1),plt.imshow(img),plt.title('Source Image'),plt.axis('off')\n",
    "plt.subplot(1,3,2),plt.imshow(laplacian,cmap='gray'),plt.title('Laplacian'),plt.axis('off')\n",
    "plt.subplot(1,3,3),plt.imshow(laplacian_after_blur,cmap='gray'),plt.title('Laplacian-Gray'),plt.axis('off')"
   ]
  }
 ],
 "metadata": {
  "kernelspec": {
   "display_name": "Python 3",
   "language": "python",
   "name": "python3"
  },
  "language_info": {
   "codemirror_mode": {
    "name": "ipython",
    "version": 3
   },
   "file_extension": ".py",
   "mimetype": "text/x-python",
   "name": "python",
   "nbconvert_exporter": "python",
   "pygments_lexer": "ipython3",
   "version": "3.13.7"
  }
 },
 "nbformat": 4,
 "nbformat_minor": 5
}
