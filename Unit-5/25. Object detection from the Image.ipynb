{
 "cells": [
  {
   "cell_type": "code",
   "execution_count": null,
   "id": "ba08b295",
   "metadata": {},
   "outputs": [
    {
     "name": "stdout",
     "output_type": "stream",
     "text": [
      "[[20 30 33 33]]\n"
     ]
    }
   ],
   "source": [
    "# 25. Object detection from the Image\n",
    "# Face Detection\n",
    "\n",
    "import cv2\n",
    "\n",
    "face_cascade = cv2.CascadeClassifier(\"haarcascade_frontalface_default.xml\")\n",
    "\n",
    "img = cv2.imread('people.jpg')\n",
    "gray_image = (cv2.cvtColor(img,cv2.COLOR_BGR2GRAY))\n",
    "\n",
    "face = face_cascade.detectMultiScale(gray_image,scaleFactor=1.1,minNeighbors=4)\n",
    "print(face)\n",
    "\n",
    "for(x,y,w,h) in face:\n",
    "    cv2.rectangle(img,(x,y),(x+w,y+h),(0,255,0),3)\n",
    "\n",
    "cv2.imshow('Face Detector',img)\n",
    "cv2.waitKey()\n",
    "cv2.destroyAllWindows()"
   ]
  }
 ],
 "metadata": {
  "kernelspec": {
   "display_name": "Python 3",
   "language": "python",
   "name": "python3"
  },
  "language_info": {
   "codemirror_mode": {
    "name": "ipython",
    "version": 3
   },
   "file_extension": ".py",
   "mimetype": "text/x-python",
   "name": "python",
   "nbconvert_exporter": "python",
   "pygments_lexer": "ipython3",
   "version": "3.13.7"
  }
 },
 "nbformat": 4,
 "nbformat_minor": 5
}
